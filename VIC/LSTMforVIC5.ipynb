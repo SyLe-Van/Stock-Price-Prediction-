{
  "nbformat": 4,
  "nbformat_minor": 0,
  "metadata": {
    "colab": {
      "provenance": []
    },
    "kernelspec": {
      "name": "python3",
      "display_name": "Python 3"
    },
    "language_info": {
      "name": "python"
    }
  },
  "cells": [
    {
      "cell_type": "code",
      "execution_count": 1,
      "metadata": {
        "id": "s7qV0nXoe11o"
      },
      "outputs": [],
      "source": [
        "import pandas as pd\n",
        "import datetime as dt\n",
        "import numpy as np\n",
        "import math\n",
        "\n",
        "from tensorflow.keras.models import Sequential\n",
        "from tensorflow.keras.layers import Dense, Dropout, LSTM\n",
        "from keras.models import load_model\n",
        "from tensorflow.keras import layers\n",
        "from sklearn.model_selection import train_test_split\n",
        "\n",
        "from sklearn.metrics import mean_absolute_error, mean_squared_error, mean_absolute_percentage_error, r2_score\n",
        "from sklearn.preprocessing import MinMaxScaler\n",
        "import matplotlib.pyplot as plt"
      ]
    },
    {
      "cell_type": "code",
      "source": [
        "df = pd.read_csv(\"/content/VIC Historical Data (5).csv\")\n",
        "df"
      ],
      "metadata": {
        "colab": {
          "base_uri": "https://localhost:8080/",
          "height": 424
        },
        "id": "FAUCqOWAN8g4",
        "outputId": "8df33837-f3d5-4a0e-b8f9-a9e2e1368864"
      },
      "execution_count": 2,
      "outputs": [
        {
          "output_type": "execute_result",
          "data": {
            "text/plain": [
              "            Date   Price    Open    High     Low     Vol. Change %\n",
              "0     11/30/2015  31.476  31.109  31.476  31.035    1.28M    0.47%\n",
              "1      12/1/2015  31.476  31.550  31.623  31.403  355.81K    0.00%\n",
              "2      12/2/2015  31.329  31.623  31.844  31.329  984.00K   -0.47%\n",
              "3      12/3/2015  31.476  31.329  31.550  31.256  567.97K    0.47%\n",
              "4      12/4/2015  31.109  31.329  31.550  31.035  767.62K   -1.17%\n",
              "...          ...     ...     ...     ...     ...      ...      ...\n",
              "1747  11/24/2022  61.000  60.000  62.100  60.000    1.14M    2.18%\n",
              "1748  11/25/2022  65.000  63.000  65.000  62.600    2.29M    6.56%\n",
              "1749  11/28/2022  65.000  66.500  67.100  65.000    3.25M    0.00%\n",
              "1750  11/29/2022  69.400  65.000  69.400  64.200    3.56M    6.77%\n",
              "1751  11/30/2022  69.600  69.500  70.200  68.000    3.23M    0.29%\n",
              "\n",
              "[1752 rows x 7 columns]"
            ],
            "text/html": [
              "\n",
              "  <div id=\"df-288ce34f-bf67-4276-9847-a9019893d5bc\">\n",
              "    <div class=\"colab-df-container\">\n",
              "      <div>\n",
              "<style scoped>\n",
              "    .dataframe tbody tr th:only-of-type {\n",
              "        vertical-align: middle;\n",
              "    }\n",
              "\n",
              "    .dataframe tbody tr th {\n",
              "        vertical-align: top;\n",
              "    }\n",
              "\n",
              "    .dataframe thead th {\n",
              "        text-align: right;\n",
              "    }\n",
              "</style>\n",
              "<table border=\"1\" class=\"dataframe\">\n",
              "  <thead>\n",
              "    <tr style=\"text-align: right;\">\n",
              "      <th></th>\n",
              "      <th>Date</th>\n",
              "      <th>Price</th>\n",
              "      <th>Open</th>\n",
              "      <th>High</th>\n",
              "      <th>Low</th>\n",
              "      <th>Vol.</th>\n",
              "      <th>Change %</th>\n",
              "    </tr>\n",
              "  </thead>\n",
              "  <tbody>\n",
              "    <tr>\n",
              "      <th>0</th>\n",
              "      <td>11/30/2015</td>\n",
              "      <td>31.476</td>\n",
              "      <td>31.109</td>\n",
              "      <td>31.476</td>\n",
              "      <td>31.035</td>\n",
              "      <td>1.28M</td>\n",
              "      <td>0.47%</td>\n",
              "    </tr>\n",
              "    <tr>\n",
              "      <th>1</th>\n",
              "      <td>12/1/2015</td>\n",
              "      <td>31.476</td>\n",
              "      <td>31.550</td>\n",
              "      <td>31.623</td>\n",
              "      <td>31.403</td>\n",
              "      <td>355.81K</td>\n",
              "      <td>0.00%</td>\n",
              "    </tr>\n",
              "    <tr>\n",
              "      <th>2</th>\n",
              "      <td>12/2/2015</td>\n",
              "      <td>31.329</td>\n",
              "      <td>31.623</td>\n",
              "      <td>31.844</td>\n",
              "      <td>31.329</td>\n",
              "      <td>984.00K</td>\n",
              "      <td>-0.47%</td>\n",
              "    </tr>\n",
              "    <tr>\n",
              "      <th>3</th>\n",
              "      <td>12/3/2015</td>\n",
              "      <td>31.476</td>\n",
              "      <td>31.329</td>\n",
              "      <td>31.550</td>\n",
              "      <td>31.256</td>\n",
              "      <td>567.97K</td>\n",
              "      <td>0.47%</td>\n",
              "    </tr>\n",
              "    <tr>\n",
              "      <th>4</th>\n",
              "      <td>12/4/2015</td>\n",
              "      <td>31.109</td>\n",
              "      <td>31.329</td>\n",
              "      <td>31.550</td>\n",
              "      <td>31.035</td>\n",
              "      <td>767.62K</td>\n",
              "      <td>-1.17%</td>\n",
              "    </tr>\n",
              "    <tr>\n",
              "      <th>...</th>\n",
              "      <td>...</td>\n",
              "      <td>...</td>\n",
              "      <td>...</td>\n",
              "      <td>...</td>\n",
              "      <td>...</td>\n",
              "      <td>...</td>\n",
              "      <td>...</td>\n",
              "    </tr>\n",
              "    <tr>\n",
              "      <th>1747</th>\n",
              "      <td>11/24/2022</td>\n",
              "      <td>61.000</td>\n",
              "      <td>60.000</td>\n",
              "      <td>62.100</td>\n",
              "      <td>60.000</td>\n",
              "      <td>1.14M</td>\n",
              "      <td>2.18%</td>\n",
              "    </tr>\n",
              "    <tr>\n",
              "      <th>1748</th>\n",
              "      <td>11/25/2022</td>\n",
              "      <td>65.000</td>\n",
              "      <td>63.000</td>\n",
              "      <td>65.000</td>\n",
              "      <td>62.600</td>\n",
              "      <td>2.29M</td>\n",
              "      <td>6.56%</td>\n",
              "    </tr>\n",
              "    <tr>\n",
              "      <th>1749</th>\n",
              "      <td>11/28/2022</td>\n",
              "      <td>65.000</td>\n",
              "      <td>66.500</td>\n",
              "      <td>67.100</td>\n",
              "      <td>65.000</td>\n",
              "      <td>3.25M</td>\n",
              "      <td>0.00%</td>\n",
              "    </tr>\n",
              "    <tr>\n",
              "      <th>1750</th>\n",
              "      <td>11/29/2022</td>\n",
              "      <td>69.400</td>\n",
              "      <td>65.000</td>\n",
              "      <td>69.400</td>\n",
              "      <td>64.200</td>\n",
              "      <td>3.56M</td>\n",
              "      <td>6.77%</td>\n",
              "    </tr>\n",
              "    <tr>\n",
              "      <th>1751</th>\n",
              "      <td>11/30/2022</td>\n",
              "      <td>69.600</td>\n",
              "      <td>69.500</td>\n",
              "      <td>70.200</td>\n",
              "      <td>68.000</td>\n",
              "      <td>3.23M</td>\n",
              "      <td>0.29%</td>\n",
              "    </tr>\n",
              "  </tbody>\n",
              "</table>\n",
              "<p>1752 rows × 7 columns</p>\n",
              "</div>\n",
              "      <button class=\"colab-df-convert\" onclick=\"convertToInteractive('df-288ce34f-bf67-4276-9847-a9019893d5bc')\"\n",
              "              title=\"Convert this dataframe to an interactive table.\"\n",
              "              style=\"display:none;\">\n",
              "        \n",
              "  <svg xmlns=\"http://www.w3.org/2000/svg\" height=\"24px\"viewBox=\"0 0 24 24\"\n",
              "       width=\"24px\">\n",
              "    <path d=\"M0 0h24v24H0V0z\" fill=\"none\"/>\n",
              "    <path d=\"M18.56 5.44l.94 2.06.94-2.06 2.06-.94-2.06-.94-.94-2.06-.94 2.06-2.06.94zm-11 1L8.5 8.5l.94-2.06 2.06-.94-2.06-.94L8.5 2.5l-.94 2.06-2.06.94zm10 10l.94 2.06.94-2.06 2.06-.94-2.06-.94-.94-2.06-.94 2.06-2.06.94z\"/><path d=\"M17.41 7.96l-1.37-1.37c-.4-.4-.92-.59-1.43-.59-.52 0-1.04.2-1.43.59L10.3 9.45l-7.72 7.72c-.78.78-.78 2.05 0 2.83L4 21.41c.39.39.9.59 1.41.59.51 0 1.02-.2 1.41-.59l7.78-7.78 2.81-2.81c.8-.78.8-2.07 0-2.86zM5.41 20L4 18.59l7.72-7.72 1.47 1.35L5.41 20z\"/>\n",
              "  </svg>\n",
              "      </button>\n",
              "      \n",
              "  <style>\n",
              "    .colab-df-container {\n",
              "      display:flex;\n",
              "      flex-wrap:wrap;\n",
              "      gap: 12px;\n",
              "    }\n",
              "\n",
              "    .colab-df-convert {\n",
              "      background-color: #E8F0FE;\n",
              "      border: none;\n",
              "      border-radius: 50%;\n",
              "      cursor: pointer;\n",
              "      display: none;\n",
              "      fill: #1967D2;\n",
              "      height: 32px;\n",
              "      padding: 0 0 0 0;\n",
              "      width: 32px;\n",
              "    }\n",
              "\n",
              "    .colab-df-convert:hover {\n",
              "      background-color: #E2EBFA;\n",
              "      box-shadow: 0px 1px 2px rgba(60, 64, 67, 0.3), 0px 1px 3px 1px rgba(60, 64, 67, 0.15);\n",
              "      fill: #174EA6;\n",
              "    }\n",
              "\n",
              "    [theme=dark] .colab-df-convert {\n",
              "      background-color: #3B4455;\n",
              "      fill: #D2E3FC;\n",
              "    }\n",
              "\n",
              "    [theme=dark] .colab-df-convert:hover {\n",
              "      background-color: #434B5C;\n",
              "      box-shadow: 0px 1px 3px 1px rgba(0, 0, 0, 0.15);\n",
              "      filter: drop-shadow(0px 1px 2px rgba(0, 0, 0, 0.3));\n",
              "      fill: #FFFFFF;\n",
              "    }\n",
              "  </style>\n",
              "\n",
              "      <script>\n",
              "        const buttonEl =\n",
              "          document.querySelector('#df-288ce34f-bf67-4276-9847-a9019893d5bc button.colab-df-convert');\n",
              "        buttonEl.style.display =\n",
              "          google.colab.kernel.accessAllowed ? 'block' : 'none';\n",
              "\n",
              "        async function convertToInteractive(key) {\n",
              "          const element = document.querySelector('#df-288ce34f-bf67-4276-9847-a9019893d5bc');\n",
              "          const dataTable =\n",
              "            await google.colab.kernel.invokeFunction('convertToInteractive',\n",
              "                                                     [key], {});\n",
              "          if (!dataTable) return;\n",
              "\n",
              "          const docLinkHtml = 'Like what you see? Visit the ' +\n",
              "            '<a target=\"_blank\" href=https://colab.research.google.com/notebooks/data_table.ipynb>data table notebook</a>'\n",
              "            + ' to learn more about interactive tables.';\n",
              "          element.innerHTML = '';\n",
              "          dataTable['output_type'] = 'display_data';\n",
              "          await google.colab.output.renderOutput(dataTable, element);\n",
              "          const docLink = document.createElement('div');\n",
              "          docLink.innerHTML = docLinkHtml;\n",
              "          element.appendChild(docLink);\n",
              "        }\n",
              "      </script>\n",
              "    </div>\n",
              "  </div>\n",
              "  "
            ]
          },
          "metadata": {},
          "execution_count": 2
        }
      ]
    },
    {
      "cell_type": "code",
      "source": [
        "plt.figure(figsize=(15, 8))\n",
        "plt.title('Vingroup Stock Prices')\n",
        "plt.plot(df['Price'])\n",
        "plt.xlabel('Date')\n",
        "plt.ylabel('Prices (VND)')"
      ],
      "metadata": {
        "colab": {
          "base_uri": "https://localhost:8080/",
          "height": 530
        },
        "id": "_45ENKf5Naev",
        "outputId": "617f4167-ff06-4a0a-f1c9-ba8bf172f518"
      },
      "execution_count": 3,
      "outputs": [
        {
          "output_type": "execute_result",
          "data": {
            "text/plain": [
              "Text(0, 0.5, 'Prices (VND)')"
            ]
          },
          "metadata": {},
          "execution_count": 3
        },
        {
          "output_type": "display_data",
          "data": {
            "text/plain": [
              "<Figure size 1080x576 with 1 Axes>"
            ],
            "image/png": "[encoded data removed]"
          },
          "metadata": {
            "needs_background": "light"
          }
        }
      ]
    },
    {
      "cell_type": "code",
      "source": [
        "p = df['Price']\n",
        "v = p.values\n",
        "train_data_len = math.ceil(len(v)* 0.9)"
      ],
      "metadata": {
        "id": "05mzIVxhOKaI"
      },
      "execution_count": 4,
      "outputs": []
    },
    {
      "cell_type": "code",
      "source": [
        "sc = MinMaxScaler(feature_range=(0,1))\n",
        "scaled_data = sc.fit_transform(v.reshape(-1,1))\n",
        "\n",
        "train_data = scaled_data[0: train_data_len, :]"
      ],
      "metadata": {
        "id": "0VxaLpe0YC82"
      },
      "execution_count": 5,
      "outputs": []
    },
    {
      "cell_type": "code",
      "source": [
        "X_train = []\n",
        "y_train = []\n",
        "\n",
        "for i in range(60, len(train_data)):\n",
        "    X_train.append(train_data[i-60:i, 0])\n",
        "    y_train.append(train_data[i, 0])\n",
        "    \n",
        "X_train, y_train = np.array(X_train), np.array(y_train)\n",
        "\n",
        "X_train = np.reshape(X_train, (X_train.shape[0], X_train.shape[1], 1))"
      ],
      "metadata": {
        "id": "JAYGVVkqbeVL"
      },
      "execution_count": 6,
      "outputs": []
    },
    {
      "cell_type": "code",
      "source": [
        "test_data = scaled_data[train_data_len-60: , : ]\n",
        "X_test = []\n",
        "y_test = v[train_data_len:]\n",
        "\n",
        "for i in range(60, len(test_data)):\n",
        "  X_test.append(test_data[i-60:i, 0])\n",
        "\n",
        "X_test = np.array(X_test)\n",
        "X_test = np.reshape(X_test, (X_test.shape[0], X_test.shape[1], 1))"
      ],
      "metadata": {
        "id": "Vn1xqP80KJLJ"
      },
      "execution_count": 7,
      "outputs": []
    },
    {
      "cell_type": "code",
      "source": [
        "model = Sequential()\n",
        "model.add(layers.LSTM(units = 64,input_shape=(X_train.shape[1], 1),return_sequences=True))\n",
        "model.add(Dropout(0.5))\n",
        "model.add(layers.LSTM(units = 64, return_sequences=True))\n",
        "model.add(Dropout(0.5))\n",
        "model.add(layers.LSTM(units = 64, return_sequences=False))\n",
        "model.add(Dropout(0.5))\n",
        "model.add(layers.Dense(25))\n",
        "model.add(layers.Dense(1))"
      ],
      "metadata": {
        "id": "-7oP3K63PSu3"
      },
      "execution_count": 8,
      "outputs": []
    },
    {
      "cell_type": "code",
      "source": [
        "model.compile(optimizer='adam', loss='mean_squared_error')\n",
        "model.fit(X_train, y_train, batch_size= 32, epochs=10)"
      ],
      "metadata": {
        "colab": {
          "base_uri": "https://localhost:8080/"
        },
        "id": "7xHPirxmPdkp",
        "outputId": "1ff23d36-fca2-4abb-fa3c-ff4a15f17bf4"
      },
      "execution_count": 9,
      "outputs": [
        {
          "output_type": "stream",
          "name": "stdout",
          "text": [
            "Epoch 1/10\n",
            "48/48 [==============================] - 11s 104ms/step - loss: 0.0283\n",
            "Epoch 2/10\n",
            "48/48 [==============================] - 5s 102ms/step - loss: 0.0110\n",
            "Epoch 3/10\n",
            "48/48 [==============================] - 5s 103ms/step - loss: 0.0088\n",
            "Epoch 4/10\n",
            "48/48 [==============================] - 5s 102ms/step - loss: 0.0076\n",
            "Epoch 5/10\n",
            "48/48 [==============================] - 6s 124ms/step - loss: 0.0064\n",
            "Epoch 6/10\n",
            "48/48 [==============================] - 5s 101ms/step - loss: 0.0058\n",
            "Epoch 7/10\n",
            "48/48 [==============================] - 5s 102ms/step - loss: 0.0053\n",
            "Epoch 8/10\n",
            "48/48 [==============================] - 5s 103ms/step - loss: 0.0046\n",
            "Epoch 9/10\n",
            "48/48 [==============================] - 5s 105ms/step - loss: 0.0046\n",
            "Epoch 10/10\n",
            "48/48 [==============================] - 5s 104ms/step - loss: 0.0040\n"
          ]
        },
        {
          "output_type": "execute_result",
          "data": {
            "text/plain": [
              "<keras.callbacks.History at 0x7f39baddf1f0>"
            ]
          },
          "metadata": {},
          "execution_count": 9
        }
      ]
    },
    {
      "cell_type": "code",
      "source": [
        "pred = model.predict(X_test)\n",
        "pred = sc.inverse_transform(pred)"
      ],
      "metadata": {
        "colab": {
          "base_uri": "https://localhost:8080/"
        },
        "id": "Q4S8GfoTLU3P",
        "outputId": "fd3c7c0c-1b19-4a33-b833-c571646c3a91"
      },
      "execution_count": 10,
      "outputs": [
        {
          "output_type": "stream",
          "name": "stdout",
          "text": [
            "6/6 [==============================] - 2s 27ms/step\n"
          ]
        }
      ]
    },
    {
      "cell_type": "code",
      "source": [
        "train_data.shape"
      ],
      "metadata": {
        "colab": {
          "base_uri": "https://localhost:8080/"
        },
        "id": "2k6gtpkfa_xZ",
        "outputId": "c205e0d5-47e8-46b8-e9d3-2e198912a2d7"
      },
      "execution_count": 11,
      "outputs": [
        {
          "output_type": "execute_result",
          "data": {
            "text/plain": [
              "(1577, 1)"
            ]
          },
          "metadata": {},
          "execution_count": 11
        }
      ]
    },
    {
      "cell_type": "code",
      "source": [
        "# Create an input array using the last 10 days of the scaled test data\n",
        "x_input = train_data[1567:].reshape(1, -1)\n",
        "\n",
        "print(x_input.shape)"
      ],
      "metadata": {
        "colab": {
          "base_uri": "https://localhost:8080/"
        },
        "id": "XJ4MohSNToa0",
        "outputId": "c85152f3-30b0-404c-c3bf-a4a6eb0b8741"
      },
      "execution_count": 12,
      "outputs": [
        {
          "output_type": "stream",
          "name": "stdout",
          "text": [
            "(1, 10)\n"
          ]
        }
      ]
    },
    {
      "cell_type": "code",
      "source": [
        "temp_input = list(x_input)\n",
        "temp_input = temp_input[0].tolist()\n",
        "\n",
        "print(temp_input)"
      ],
      "metadata": {
        "colab": {
          "base_uri": "https://localhost:8080/"
        },
        "id": "WqESSIy0aGCx",
        "outputId": "8b8b00a2-149a-4958-9b6b-cbd17cbbada1"
      },
      "execution_count": 13,
      "outputs": [
        {
          "output_type": "stream",
          "name": "stdout",
          "text": [
            "[0.5039712729375248, 0.5029568992625504, 0.49585628353772965, 0.49585628353772965, 0.4938275361877808, 0.4968706572127041, 0.5009281519126016, 0.5232443727620382, 0.5354168568617308, 0.5273018674619356]\n"
          ]
        }
      ]
    },
    {
      "cell_type": "code",
      "source": [
        "# Initialize variables\n",
        "lst_output = []\n",
        "n_steps = 10\n",
        "i = 0\n",
        "\n",
        "while(i < 30):\n",
        "    if(len(temp_input) > 10):\n",
        "        x_input = np.array(temp_input[1:])\n",
        "        x_input = x_input.reshape((1, n_steps, 1))\n",
        "\n",
        "        yhat = model.predict(x_input, verbose=0)\n",
        "\n",
        "        temp_input.extend(yhat[0].tolist())\n",
        "        temp_input = temp_input[1:]\n",
        "\n",
        "        lst_output.extend(yhat.tolist())\n",
        "        i += 1\n",
        "    else:\n",
        "        x_input = x_input.reshape((1, n_steps,1))\n",
        "\n",
        "        yhat = model.predict(x_input, verbose=0)\n",
        "\n",
        "        temp_input.extend(yhat[0].tolist())\n",
        "\n",
        "        lst_output.extend(yhat.tolist())\n",
        "        i += 1"
      ],
      "metadata": {
        "id": "i9axZz1nPSdH"
      },
      "execution_count": 14,
      "outputs": []
    },
    {
      "cell_type": "code",
      "source": [
        "y_pred_future = sc.inverse_transform(lst_output)\n",
        "\n",
        "print(y_pred_future)"
      ],
      "metadata": {
        "colab": {
          "base_uri": "https://localhost:8080/"
        },
        "id": "3oA-fcmncC93",
        "outputId": "dbf6dc3c-21eb-4e4b-8aa2-6a6f3d6345d7"
      },
      "execution_count": 15,
      "outputs": [
        {
          "output_type": "stream",
          "name": "stdout",
          "text": [
            "[[79.99330605]\n",
            " [80.15014837]\n",
            " [80.32387833]\n",
            " [80.53671897]\n",
            " [80.73337122]\n",
            " [80.92481733]\n",
            " [81.08044331]\n",
            " [81.19980847]\n",
            " [81.18027663]\n",
            " [81.10399434]\n",
            " [81.10096232]\n",
            " [81.19617122]\n",
            " [81.27844117]\n",
            " [81.3470729 ]\n",
            " [81.40093824]\n",
            " [81.44286353]\n",
            " [81.47476436]\n",
            " [81.50008994]\n",
            " [81.52173714]\n",
            " [81.54826143]\n",
            " [81.5818663 ]\n",
            " [81.6165641 ]\n",
            " [81.64579723]\n",
            " [81.67082313]\n",
            " [81.69281114]\n",
            " [81.71288945]\n",
            " [81.73181018]\n",
            " [81.75010219]\n",
            " [81.76801813]\n",
            " [81.7855815 ]]\n"
          ]
        }
      ]
    },
    {
      "cell_type": "code",
      "source": [
        "import datetime as dt\n",
        "\n",
        "# Convert the 'date' column in the dataframe to a list of strings\n",
        "datelist_train = df['Date'].astype(str).tolist()\n",
        "\n",
        "# Parse the date strings using strptime(), using the correct format string\n",
        "datelist_train = [dt.datetime.strptime(date, '%m/%d/%Y').date() for date in datelist_train]\n",
        "\n",
        "# Generate a list of future dates, starting from the last date in the training data and going for 15 days\n",
        "datelist_future = pd.date_range(datelist_train[-1], periods=30, freq='1d').tolist()"
      ],
      "metadata": {
        "id": "HSZRd15PdHTr"
      },
      "execution_count": null,
      "outputs": []
    },
    {
      "cell_type": "code",
      "source": [
        "# Set the figure size and create a subplot\n",
        "plt.figure(figsize=(16,5))\n",
        "\n",
        "# Plot the actual and predicted prices in the test set, and the predicted future prices\n",
        "plt.plot(y_pred_future, label='Predicted Future Prices in next 30 days')\n",
        "\n",
        "# Add a legend and grid\n",
        "plt.legend()\n",
        "plt.grid()"
      ],
      "metadata": {
        "colab": {
          "base_uri": "https://localhost:8080/",
          "height": 320
        },
        "id": "nZphsKund-Av",
        "outputId": "2378d63d-081c-4686-b19b-06023ab7d152"
      },
      "execution_count": 46,
      "outputs": [
        {
          "output_type": "display_data",
          "data": {
            "text/plain": [
              "<Figure size 1152x360 with 1 Axes>"
            ],
            "image/png": "[encoded data removed]"
          },
          "metadata": {
            "needs_background": "light"
          }
        }
      ]
    },
    {
      "cell_type": "code",
      "source": [
        "pred2 = model.predict(X_train)\n",
        "pred2 = sc.inverse_transform(pred2)"
      ],
      "metadata": {
        "colab": {
          "base_uri": "https://localhost:8080/"
        },
        "id": "xuqYGjx2xV2O",
        "outputId": "5dc29689-0f76-40d4-d5bb-f96ad93d064f"
      },
      "execution_count": 29,
      "outputs": [
        {
          "output_type": "stream",
          "name": "stdout",
          "text": [
            "37/37 [==============================] - 1s 32ms/step\n"
          ]
        }
      ]
    },
    {
      "cell_type": "code",
      "source": [
        "data = df.filter(['Price'])\n",
        "train = data[:train_data_len]\n",
        "#real_price = df[train_data_len:]['Price'].values.reshape(-1,1)\n",
        "#real_price = np.array(real_price)\n",
        "#real_price = real_price.reshape(real_price.shape[0], 1)\n",
        "val = data[train_data_len:]\n",
        "val['Predictions'] = pred\n",
        "plt.figure(figsize=(16,8))\n",
        "plt.title('Predicted stock price of Vingroup')\n",
        "plt.xlabel('Date')\n",
        "plt.ylabel('Price')\n",
        "plt.plot(df['Price'], color='blue', label='Actual Price')\n",
        "#plt.plot(pred2, color='red')\n",
        "plt.plot(val[['Price', 'Predictions']])\n",
        "plt.legend(['Train', 'predicted'], loc='upper left')\n",
        "plt.show()"
      ],
      "metadata": {
        "colab": {
          "base_uri": "https://localhost:8080/",
          "height": 617
        },
        "id": "MwvnymYOQ4RJ",
        "outputId": "bf06acd2-812e-480f-a20a-13a98119877d"
      },
      "execution_count": 65,
      "outputs": [
        {
          "output_type": "stream",
          "name": "stderr",
          "text": [
            "<ipython-input-65-537967364b01>:7: SettingWithCopyWarning: \n",
            "A value is trying to be set on a copy of a slice from a DataFrame.\n",
            "Try using .loc[row_indexer,col_indexer] = value instead\n",
            "\n",
            "See the caveats in the documentation: https://pandas.pydata.org/pandas-docs/stable/user_guide/indexing.html#returning-a-view-versus-a-copy\n",
            "  val['Predictions'] = pred\n"
          ]
        },
        {
          "output_type": "display_data",
          "data": {
            "text/plain": [
              "<Figure size 1152x576 with 1 Axes>"
            ],
            "image/png": "[encoded data removed]"
          },
          "metadata": {
            "needs_background": "light"
          }
        }
      ]
    },
    {
      "cell_type": "code",
      "source": [
        "real_data=val['Price']\n",
        "\n",
        "mape = mean_absolute_percentage_error(real_data, pred)\n",
        "mse = mean_squared_error(real_data, pred)\n",
        "rmse = np.sqrt(mse)\n",
        "print(f\"MAPE: {mape * 100:.2f}%\")\n",
        "print(f\"RMSE: {rmse:.0f}\")"
      ],
      "metadata": {
        "colab": {
          "base_uri": "https://localhost:8080/"
        },
        "id": "9uq01F1YpEPU",
        "outputId": "6f28144d-eb46-40da-86cc-a1e9e92d4994"
      },
      "execution_count": 66,
      "outputs": [
        {
          "output_type": "stream",
          "name": "stdout",
          "text": [
            "MAPE: 4.77%\n",
            "RMSE: 5\n"
          ]
        }
      ]
    }
  ]
}